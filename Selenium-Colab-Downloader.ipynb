{
  "nbformat": 4,
  "nbformat_minor": 0,
  "metadata": {
    "colab": {
      "provenance": []
    },
    "kernelspec": {
      "name": "python3",
      "display_name": "Python 3"
    },
    "language_info": {
      "name": "python"
    }
  },
  "cells": [
    {
      "cell_type": "markdown",
      "source": [
        "# Install Required Packages and Tools\n",
        "1.   This cell installs the Selenium package for web automation and ChromeDriver for running Chrome in a headless environment.\n",
        "2.   It also updates the package manager and installs Chromium and ChromeDriver, essential for Selenium to function in a Google Colab environment."
      ],
      "metadata": {
        "id": "5ZpW9UncfMTU"
      }
    },
    {
      "cell_type": "code",
      "source": [
        "!pip install selenium\n",
        "!apt update\n",
        "!apt install chromium-chromedriver"
      ],
      "metadata": {
        "id": "HxnnMFf7L529"
      },
      "execution_count": null,
      "outputs": []
    },
    {
      "cell_type": "markdown",
      "source": [
        "# Mount Google Drive\n",
        "1.   This cell mounts Google Drive to allow saving files downloaded via Selenium directly to the user's Drive.\n",
        "2.   You need to authorize access by clicking the link and entering the code provided.\n",
        "\n"
      ],
      "metadata": {
        "id": "VdnvXobCf2uP"
      }
    },
    {
      "cell_type": "code",
      "source": [
        "from google.colab import drive\n",
        "drive.mount('/content/gdrive')"
      ],
      "metadata": {
        "id": "hVAVJChNk0zt"
      },
      "execution_count": null,
      "outputs": []
    },
    {
      "cell_type": "markdown",
      "source": [
        "# Automate Login and File Download with Selenium\n",
        "1.   This cell performs web automation to log into Zenodo and download a file using Selenium.\n",
        "2.   Ensure you replace sensitive information like email and password with your actual credentials.\n",
        "\n"
      ],
      "metadata": {
        "id": "f0_iByyygIaH"
      }
    },
    {
      "cell_type": "code",
      "execution_count": null,
      "metadata": {
        "id": "ZrIf1-ObGsXB"
      },
      "outputs": [],
      "source": [
        "import time\n",
        "import sys\n",
        "import os\n",
        "from selenium.webdriver.chrome.service import Service\n",
        "from selenium.webdriver.chrome.options import Options\n",
        "from selenium import webdriver\n",
        "from selenium.webdriver.common.by import By\n",
        "\n",
        "# Configure Chrome options for headless execution\n",
        "options = webdriver.ChromeOptions()\n",
        "options.add_argument('--headless') # Run Chrome in headless mode\n",
        "options.add_argument('--no-sandbox') # Disable sandbox for security issues in Colab\n",
        "options.add_argument('--disable-dev-shm-usage') # Overcome limited resource problems\n",
        "prefs = {\n",
        "    \"download.default_directory\": \"/content/gdrive/MyDrive\",  # Set the download directory to Google Drive\n",
        "    \"download.prompt_for_download\": False, # Disable download prompts\n",
        "    \"download.directory_upgrade\": True, # Enable directory upgrades\n",
        "    \"safebrowsing.enabled\": True # Enable safe browsing\n",
        "}\n",
        "options.add_experimental_option(\"prefs\", prefs)\n",
        "driver = webdriver.Chrome(options=options)\n",
        "\n",
        "# Login page URL\n",
        "input(\"Enter the login page URL: \")\n",
        "login_url = driver.get(login_url)\n",
        "time.sleep(5)  # Allow time for the page to load\n",
        "\n",
        "# Automate login\n",
        "# Replace these with your credentials or implement a secure way to handle credentials\n",
        "email = input(\"Enter your email: \")\n",
        "password = input(\"Enter your password: \")\n",
        "email_input = driver.find_element(By.NAME, \"email\")\n",
        "email_input.send_keys(email)\n",
        "password_input = driver.find_element(By.NAME, \"password\")\n",
        "password_input.send_keys(password)\n",
        "\n",
        "# Find and click the login button\n",
        "login_button = driver.find_element(By.CLASS_NAME, \"ui.fluid.large.labeled.icon.primary.button\")\n",
        "login_button.click()\n",
        "\n",
        "# Wait for login to complete\n",
        "time.sleep(5)\n",
        "\n",
        "# Now you can navigate to the download page\n",
        "download_url = input(\"Enter the file download URL: \")\n",
        "\n",
        "driver.get(download_url)\n",
        "time.sleep(800)  # Allow time for the download to complete\n",
        "\n",
        "# Close the browser\n",
        "driver.quit()\n"
      ]
    }
  ]
}
